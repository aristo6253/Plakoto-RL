{
 "cells": [
  {
   "cell_type": "code",
   "execution_count": 1,
   "metadata": {},
   "outputs": [],
   "source": [
    "from plakoto_modeling import *\n",
    "import numpy as np\n",
    "from IPython.display import clear_output\n",
    "\n",
    "%load_ext autoreload\n",
    "%autoreload 2"
   ]
  },
  {
   "cell_type": "code",
   "execution_count": 139,
   "metadata": {},
   "outputs": [
    {
     "name": "stdout",
     "output_type": "stream",
     "text": [
      "Player 1: o | Player 2: x\n",
      "—————————————————————————\n",
      " | | | | | | | | | | |x15\n",
      "—————————————————————————\n",
      " | | | | | | | | | | |o15\n",
      "—————————————————————————\n",
      "Player 1 has 0 borne-off pieces.\n",
      "Player 2 has 0 borne-off pieces.\n"
     ]
    }
   ],
   "source": [
    "plakoto_game = Plakoto()\n",
    "plakoto_game.visualize_board()"
   ]
  },
  {
   "cell_type": "code",
   "execution_count": 142,
   "metadata": {},
   "outputs": [
    {
     "name": "stdout",
     "output_type": "stream",
     "text": [
      "Player 1: o | Player 2: x\n",
      "——————————————————————————\n",
      "x|x| | |x| | |x|o2|x|o4|o5\n",
      "——————————————————————————\n",
      " | | |o2x|ox|x3|x|ox2| | | |x2\n",
      "——————————————————————————\n",
      "Player 1 has 0 borne-off pieces.\n",
      "Player 2 has 0 borne-off pieces.\n",
      "Player 1: o | Player 2: x\n",
      "—————————————————————————\n",
      " |x| |x| | | | | |x|o3|o8\n",
      "—————————————————————————\n",
      " |x2| |o3x| |x|x|ox2| | |x|x4\n",
      "—————————————————————————\n",
      "Player 1 has 0 borne-off pieces.\n",
      "Player 2 has 0 borne-off pieces.\n",
      "Player 1: o | Player 2: x\n",
      "——————————————————————————\n",
      " | | |x| | | | |o| |o2|o11\n",
      "——————————————————————————\n",
      " | |x| | |x|x|ox|x2| |x3|x5\n",
      "——————————————————————————\n",
      "Player 1 has 0 borne-off pieces.\n",
      "Player 2 has 0 borne-off pieces.\n",
      "Player 1: o | Player 2: x\n",
      "—————————————————————————\n",
      " | | |x| | | | |o| |o|o12\n",
      "—————————————————————————\n",
      " | | | | | | |ox|x2|x|x5|x5\n",
      "—————————————————————————\n",
      "Player 1 has 0 borne-off pieces.\n",
      "Player 2 has 0 borne-off pieces.\n",
      "Player 1: o | Player 2: x\n",
      "—————————————————————————\n",
      " | | |x| | | | | | |o|o13\n",
      "—————————————————————————\n",
      " | | | | | | |ox|x2|x|x5|x5\n",
      "—————————————————————————\n",
      "Player 1 has 0 borne-off pieces.\n",
      "Player 2 has 0 borne-off pieces.\n"
     ]
    },
    {
     "ename": "IndexError",
     "evalue": "list index out of range",
     "output_type": "error",
     "traceback": [
      "\u001b[1;31m---------------------------------------------------------------------------\u001b[0m",
      "\u001b[1;31mIndexError\u001b[0m                                Traceback (most recent call last)",
      "\u001b[1;32m~\\AppData\\Local\\Temp\\ipykernel_40492\\2811704070.py\u001b[0m in \u001b[0;36m<module>\u001b[1;34m\u001b[0m\n\u001b[0;32m     10\u001b[0m             \u001b[1;32mbreak\u001b[0m\u001b[1;33m\u001b[0m\u001b[1;33m\u001b[0m\u001b[0m\n\u001b[0;32m     11\u001b[0m         \u001b[0mchosen_move\u001b[0m \u001b[1;33m=\u001b[0m \u001b[0mvalid_moves\u001b[0m\u001b[1;33m[\u001b[0m\u001b[0mnp\u001b[0m\u001b[1;33m.\u001b[0m\u001b[0mrandom\u001b[0m\u001b[1;33m.\u001b[0m\u001b[0mrandint\u001b[0m\u001b[1;33m(\u001b[0m\u001b[0mlen\u001b[0m\u001b[1;33m(\u001b[0m\u001b[0mvalid_moves\u001b[0m\u001b[1;33m)\u001b[0m\u001b[1;33m)\u001b[0m\u001b[1;33m]\u001b[0m\u001b[1;33m\u001b[0m\u001b[1;33m\u001b[0m\u001b[0m\n\u001b[1;32m---> 12\u001b[1;33m         \u001b[0mplakoto_game\u001b[0m\u001b[1;33m.\u001b[0m\u001b[0mplay_turn\u001b[0m\u001b[1;33m(\u001b[0m\u001b[0mchosen_move\u001b[0m\u001b[1;33m[\u001b[0m\u001b[1;36m0\u001b[0m\u001b[1;33m]\u001b[0m\u001b[1;33m,\u001b[0m \u001b[0mchosen_move\u001b[0m\u001b[1;33m[\u001b[0m\u001b[1;36m1\u001b[0m\u001b[1;33m]\u001b[0m\u001b[1;33m,\u001b[0m \u001b[0mverbose\u001b[0m\u001b[1;33m=\u001b[0m\u001b[1;32mFalse\u001b[0m\u001b[1;33m)\u001b[0m\u001b[1;33m\u001b[0m\u001b[1;33m\u001b[0m\u001b[0m\n\u001b[0m\u001b[0;32m     13\u001b[0m \u001b[0mplakoto_game\u001b[0m\u001b[1;33m.\u001b[0m\u001b[0mvisualize_board\u001b[0m\u001b[1;33m(\u001b[0m\u001b[1;33m)\u001b[0m\u001b[1;33m\u001b[0m\u001b[1;33m\u001b[0m\u001b[0m\n",
      "\u001b[1;32mc:\\Users\\arist\\Projects\\Reinforcement Learning\\Plakoto-RL\\plakoto_modeling.py\u001b[0m in \u001b[0;36mplay_turn\u001b[1;34m(self, start, end, verbose)\u001b[0m\n\u001b[0;32m    254\u001b[0m         \u001b[1;31m#     self.switch_player()\u001b[0m\u001b[1;33m\u001b[0m\u001b[1;33m\u001b[0m\u001b[0m\n\u001b[0;32m    255\u001b[0m \u001b[1;33m\u001b[0m\u001b[0m\n\u001b[1;32m--> 256\u001b[1;33m         \u001b[1;32mif\u001b[0m \u001b[1;32mnot\u001b[0m \u001b[0mself\u001b[0m\u001b[1;33m.\u001b[0m\u001b[0mmove_piece\u001b[0m\u001b[1;33m(\u001b[0m\u001b[0mstart\u001b[0m\u001b[1;33m,\u001b[0m \u001b[0mend\u001b[0m\u001b[1;33m)\u001b[0m \u001b[1;32mand\u001b[0m \u001b[0mverbose\u001b[0m\u001b[1;33m:\u001b[0m\u001b[1;33m\u001b[0m\u001b[1;33m\u001b[0m\u001b[0m\n\u001b[0m\u001b[0;32m    257\u001b[0m             \u001b[0mprint\u001b[0m\u001b[1;33m(\u001b[0m\u001b[1;34m\"Try again\"\u001b[0m\u001b[1;33m)\u001b[0m\u001b[1;33m\u001b[0m\u001b[1;33m\u001b[0m\u001b[0m\n\u001b[0;32m    258\u001b[0m \u001b[1;33m\u001b[0m\u001b[0m\n",
      "\u001b[1;32mc:\\Users\\arist\\Projects\\Reinforcement Learning\\Plakoto-RL\\plakoto_modeling.py\u001b[0m in \u001b[0;36mmove_piece\u001b[1;34m(self, start, end)\u001b[0m\n\u001b[0;32m    183\u001b[0m             \u001b[1;32melse\u001b[0m\u001b[1;33m:\u001b[0m\u001b[1;33m\u001b[0m\u001b[1;33m\u001b[0m\u001b[0m\n\u001b[0;32m    184\u001b[0m                 \u001b[1;31m# print(\"ENDDD (not) \", end)\u001b[0m\u001b[1;33m\u001b[0m\u001b[1;33m\u001b[0m\u001b[0m\n\u001b[1;32m--> 185\u001b[1;33m                 \u001b[0mself\u001b[0m\u001b[1;33m.\u001b[0m\u001b[0mboard\u001b[0m\u001b[1;33m[\u001b[0m\u001b[0mend\u001b[0m\u001b[1;33m]\u001b[0m\u001b[1;33m[\u001b[0m\u001b[0mplayer\u001b[0m\u001b[1;33m]\u001b[0m \u001b[1;33m+=\u001b[0m \u001b[1;36m1\u001b[0m\u001b[1;33m\u001b[0m\u001b[1;33m\u001b[0m\u001b[0m\n\u001b[0m\u001b[0;32m    186\u001b[0m                 \u001b[1;32mif\u001b[0m \u001b[0mopponent_pieces\u001b[0m \u001b[1;33m==\u001b[0m \u001b[1;36m1\u001b[0m \u001b[1;32mand\u001b[0m \u001b[1;32mnot\u001b[0m \u001b[0mis_pinned\u001b[0m\u001b[1;33m:\u001b[0m\u001b[1;33m\u001b[0m\u001b[1;33m\u001b[0m\u001b[0m\n\u001b[0;32m    187\u001b[0m                     \u001b[1;31m# print(\"Pinning opponent piece\")\u001b[0m\u001b[1;33m\u001b[0m\u001b[1;33m\u001b[0m\u001b[0m\n",
      "\u001b[1;31mIndexError\u001b[0m: list index out of range"
     ]
    }
   ],
   "source": [
    "plakoto_game = Plakoto()\n",
    "\n",
    "for _ in range(100):\n",
    "    plakoto_game.setup_turn(verbose=False)\n",
    "    valid_moves = plakoto_game.get_valid_moves()\n",
    "    while len(plakoto_game.get_moves()) > 0 and plakoto_game.get_winner() == 0:\n",
    "        valid_moves = plakoto_game.get_valid_moves()\n",
    "        if len(valid_moves) == 0:\n",
    "            # plakoto_game.visualize_board()\n",
    "            break\n",
    "        chosen_move = valid_moves[np.random.randint(len(valid_moves))]\n",
    "        plakoto_game.play_turn(chosen_move[0], chosen_move[1], verbose=False)\n",
    "plakoto_game.visualize_board()\n"
   ]
  },
  {
   "cell_type": "code",
   "execution_count": 138,
   "metadata": {},
   "outputs": [
    {
     "data": {
      "text/plain": [
       "2"
      ]
     },
     "execution_count": 138,
     "metadata": {},
     "output_type": "execute_result"
    }
   ],
   "source": [
    "len(plakoto_game.get_move_history())"
   ]
  },
  {
   "cell_type": "code",
   "execution_count": 292,
   "metadata": {},
   "outputs": [],
   "source": [
    "board = [[0, 0, False, 0] for _ in range(NUM_POINTS)]\n",
    "board[23] = [PIECES_PER_PLAYER-1, 0, False, 0]\n",
    "board[0] = [1, 1, True, 1]\n",
    "board[1] = [0, PIECES_PER_PLAYER-1, False, 0]"
   ]
  },
  {
   "cell_type": "code",
   "execution_count": 7,
   "metadata": {},
   "outputs": [
    {
     "ename": "NameError",
     "evalue": "name 'board' is not defined",
     "output_type": "error",
     "traceback": [
      "\u001b[1;31m---------------------------------------------------------------------------\u001b[0m",
      "\u001b[1;31mNameError\u001b[0m                                 Traceback (most recent call last)",
      "\u001b[1;32m~\\AppData\\Local\\Temp\\ipykernel_11712\\1129101399.py\u001b[0m in \u001b[0;36m<module>\u001b[1;34m\u001b[0m\n\u001b[0;32m      1\u001b[0m \u001b[0mplakoto_game\u001b[0m \u001b[1;33m=\u001b[0m \u001b[0mPlakoto\u001b[0m\u001b[1;33m(\u001b[0m\u001b[1;33m)\u001b[0m\u001b[1;33m\u001b[0m\u001b[1;33m\u001b[0m\u001b[0m\n\u001b[1;32m----> 2\u001b[1;33m \u001b[0mplakoto_game\u001b[0m\u001b[1;33m.\u001b[0m\u001b[0minitialize_board_custom\u001b[0m\u001b[1;33m(\u001b[0m\u001b[0mboard\u001b[0m\u001b[1;33m)\u001b[0m\u001b[1;33m\u001b[0m\u001b[1;33m\u001b[0m\u001b[0m\n\u001b[0m\u001b[0;32m      3\u001b[0m \u001b[0mplakoto_game\u001b[0m\u001b[1;33m.\u001b[0m\u001b[0mvisualize_board\u001b[0m\u001b[1;33m(\u001b[0m\u001b[1;33m)\u001b[0m\u001b[1;33m\u001b[0m\u001b[1;33m\u001b[0m\u001b[0m\n",
      "\u001b[1;31mNameError\u001b[0m: name 'board' is not defined"
     ]
    }
   ],
   "source": [
    "plakoto_game = Plakoto()\n",
    "plakoto_game.initialize_board_custom(board)\n",
    "plakoto_game.visualize_board()"
   ]
  },
  {
   "cell_type": "code",
   "execution_count": 15,
   "metadata": {},
   "outputs": [
    {
     "name": "stdout",
     "output_type": "stream",
     "text": [
      "Player 1: o | Player 2: x\n",
      "—————————————————————————\n",
      " | | | | | | | | | | |x15\n",
      "—————————————————————————\n",
      " | | | | | | | | | | |o15\n",
      "—————————————————————————\n",
      "Player 1 has 0 borne-off pieces.\n",
      "Player 2 has 0 borne-off pieces.\n"
     ]
    }
   ],
   "source": [
    "plakoto_game = Plakoto()\n",
    "plakoto_game.visualize_board()"
   ]
  },
  {
   "cell_type": "code",
   "execution_count": 122,
   "metadata": {},
   "outputs": [
    {
     "name": "stdout",
     "output_type": "stream",
     "text": [
      "Game over! Player 2 won!\n",
      "Player 1: o | Player 2: x\n",
      "———————————————————————\n",
      " | | | | | | | | | | | \n",
      "———————————————————————\n",
      " | | | | | | | | |x2| |x12\n",
      "———————————————————————\n",
      "Player 1 has 15 borne-off pieces.\n",
      "Player 2 has 0 borne-off pieces.\n"
     ]
    }
   ],
   "source": [
    "# Player 2 starts at 0 top right\n",
    "# Player 1 starts at 23 bot right\n",
    "\n",
    "plakoto_game.setup_turn(verbose=True)\n",
    "valid_moves = plakoto_game.get_valid_moves()\n",
    "while len(plakoto_game.get_moves()) > 0 and plakoto_game.get_winner() == 0:\n",
    "    valid_moves = plakoto_game.get_valid_moves()\n",
    "    if len(valid_moves) == 0:\n",
    "        plakoto_game.visualize_board()\n",
    "        break\n",
    "    chosen_move = valid_moves[np.random.randint(len(valid_moves))]\n",
    "    plakoto_game.play_turn(chosen_move[0], chosen_move[1], verbose=False)\n",
    "plakoto_game.visualize_board()"
   ]
  },
  {
   "cell_type": "code",
   "execution_count": 119,
   "metadata": {},
   "outputs": [
    {
     "data": {
      "text/plain": [
       "[4]"
      ]
     },
     "execution_count": 119,
     "metadata": {},
     "output_type": "execute_result"
    }
   ],
   "source": [
    "plakoto_game.get_moves()"
   ]
  },
  {
   "cell_type": "code",
   "execution_count": 287,
   "metadata": {},
   "outputs": [
    {
     "name": "stdout",
     "output_type": "stream",
     "text": [
      "Player 1: o | Player 2: x\n",
      "———————————————————————\n",
      " | | | | | | | | | | | \n",
      "———————————————————————\n",
      " | | | | | | | | | | |x14\n",
      "———————————————————————\n",
      "Player 1 has 15 borne-off pieces.\n",
      "Player 2 has 0 borne-off pieces.\n"
     ]
    }
   ],
   "source": [
    "plakoto_game.visualize_board()"
   ]
  }
 ],
 "metadata": {
  "kernelspec": {
   "display_name": "base",
   "language": "python",
   "name": "python3"
  },
  "language_info": {
   "codemirror_mode": {
    "name": "ipython",
    "version": 3
   },
   "file_extension": ".py",
   "mimetype": "text/x-python",
   "name": "python",
   "nbconvert_exporter": "python",
   "pygments_lexer": "ipython3",
   "version": "3.9.13"
  }
 },
 "nbformat": 4,
 "nbformat_minor": 2
}
