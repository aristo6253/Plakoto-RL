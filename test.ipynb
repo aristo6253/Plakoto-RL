{
 "cells": [
  {
   "cell_type": "code",
   "execution_count": 1,
   "metadata": {},
   "outputs": [],
   "source": [
    "from plakoto_modeling import *\n",
    "import numpy as np\n",
    "from IPython.display import clear_output\n",
    "\n",
    "%load_ext autoreload\n",
    "%autoreload 2"
   ]
  },
  {
   "cell_type": "code",
   "execution_count": 2,
   "metadata": {},
   "outputs": [
    {
     "name": "stdout",
     "output_type": "stream",
     "text": [
      "Player 1: o | Player 2: x\n",
      "—————————————————————————\n",
      " | | | | | | | | | | |x15\n",
      "—————————————————————————\n",
      " | | | | | | | | | | |o15\n",
      "—————————————————————————\n",
      "Player 1 has 0 borne-off pieces.\n",
      "Player 2 has 0 borne-off pieces.\n"
     ]
    }
   ],
   "source": [
    "plakoto_game = Plakoto()\n",
    "plakoto_game.visualize_board()"
   ]
  },
  {
   "cell_type": "code",
   "execution_count": 244,
   "metadata": {},
   "outputs": [
    {
     "name": "stdout",
     "output_type": "stream",
     "text": [
      "Player 2's turn\n",
      "Dice roll: [1, 4]\n",
      "Possible moves: [1, 4]\n",
      "Cannot move pinned piece at point 11\n",
      "Cannot move pinned piece at point 11\n",
      "Valid moves: [(0, 1), (0, 4), (4, 5), (4, 8), (7, 8), (7, 11)]\n"
     ]
    }
   ],
   "source": [
    "plakoto_game.setup_turn()"
   ]
  },
  {
   "cell_type": "code",
   "execution_count": 238,
   "metadata": {},
   "outputs": [
    {
     "name": "stdout",
     "output_type": "stream",
     "text": [
      "Moving piece from 0 to 4\n",
      "Not pinning opponent piece\n",
      "Moves left: []\n",
      "Round over\n",
      "Player 1: o | Player 2: x\n",
      "—————————————————————————\n",
      "x| | | |x| | |x| | | |x12\n",
      "—————————————————————————\n",
      " | |o| |o| | | |o| | |o12\n",
      "—————————————————————————\n",
      "Player 1 has 0 borne-off pieces.\n",
      "Player 2 has 0 borne-off pieces.\n"
     ]
    }
   ],
   "source": [
    "valid_moves = plakoto_game.get_valid_moves()\n",
    "# if len(valid_moves) > 0:\n",
    "chosen_move = valid_moves[np.random.randint(len(valid_moves))]\n",
    "plakoto_game.play_turn(chosen_move[0], chosen_move[1])"
   ]
  },
  {
   "cell_type": "code",
   "execution_count": 55,
   "metadata": {},
   "outputs": [],
   "source": [
    "plakoto_game = Plakoto()"
   ]
  },
  {
   "cell_type": "code",
   "execution_count": 56,
   "metadata": {},
   "outputs": [
    {
     "name": "stdout",
     "output_type": "stream",
     "text": [
      "Moving piece from 23 to 18\n",
      "Current player: 1\n",
      "Pieces in: 0\n",
      "Can bear off? False\n",
      "Moving piece from 18 to 12\n",
      "Current player: 1\n",
      "Pieces in: 0\n",
      "Can bear off? False\n",
      "Player 1: o | Player 2: x\n",
      "—————————————————————————\n",
      " | | | | | | | | | | |x15\n",
      "—————————————————————————\n",
      "o| | | | | | | | | | |o14\n",
      "—————————————————————————\n",
      "Player 1 has 0 borne-off pieces.\n",
      "Player 2 has 0 borne-off pieces.\n"
     ]
    }
   ],
   "source": [
    "for _ in range(1):\n",
    "    plakoto_game.setup_turn(verbose=False)\n",
    "    valid_moves = plakoto_game.get_valid_moves()\n",
    "    while len(plakoto_game.get_moves()) > 0:\n",
    "        valid_moves = plakoto_game.get_valid_moves()\n",
    "        if len(valid_moves) == 0:\n",
    "            plakoto_game.visualize_board()\n",
    "            break\n",
    "        chosen_move = valid_moves[np.random.randint(len(valid_moves))]\n",
    "        plakoto_game.play_turn(chosen_move[0], chosen_move[1], verbose=False)\n",
    "    plakoto_game.visualize_board()\n"
   ]
  },
  {
   "cell_type": "code",
   "execution_count": 292,
   "metadata": {},
   "outputs": [],
   "source": [
    "board = [[0, 0, False, 0] for _ in range(NUM_POINTS)]\n",
    "board[23] = [PIECES_PER_PLAYER-1, 0, False, 0]\n",
    "board[0] = [1, 1, True, 1]\n",
    "board[1] = [0, PIECES_PER_PLAYER-1, False, 0]"
   ]
  },
  {
   "cell_type": "code",
   "execution_count": 293,
   "metadata": {},
   "outputs": [
    {
     "name": "stdout",
     "output_type": "stream",
     "text": [
      "Player 1: o | Player 2: x\n",
      "—————————————————————————\n",
      " | | | | | | | | | | |x15\n",
      "—————————————————————————\n",
      " | | | | | | | | | | |o15\n",
      "—————————————————————————\n",
      "Player 1 has 0 borne-off pieces.\n",
      "Player 2 has 0 borne-off pieces.\n"
     ]
    }
   ],
   "source": [
    "plakoto_game = Plakoto()\n",
    "plakoto_game.visualize_board()"
   ]
  },
  {
   "cell_type": "code",
   "execution_count": 294,
   "metadata": {},
   "outputs": [
    {
     "name": "stdout",
     "output_type": "stream",
     "text": [
      "Player 1: o | Player 2: x\n",
      "——————————————————————————\n",
      " | | | | | | | | | |x14|ox\n",
      "——————————————————————————\n",
      " | | | | | | | | | | |o14\n",
      "——————————————————————————\n",
      "Player 1 has 0 borne-off pieces.\n",
      "Player 2 has 0 borne-off pieces.\n"
     ]
    }
   ],
   "source": [
    "plakoto_game = Plakoto()\n",
    "plakoto_game.initialize_board_custom(board)\n",
    "plakoto_game.visualize_board()"
   ]
  },
  {
   "cell_type": "code",
   "execution_count": 415,
   "metadata": {},
   "outputs": [
    {
     "name": "stdout",
     "output_type": "stream",
     "text": [
      "Player 1's turn\n",
      "Dice roll: [6, 3]\n",
      "Possible moves: [6, 3]\n",
      "Valid moves: []\n",
      "Can bear off? False\n",
      "No valid moves\n",
      "Player 1: o | Player 2: x\n",
      "——————————————————————————\n",
      " | | | | | | | | | | |o14x\n",
      "——————————————————————————\n",
      " | | | | | | | | | | |ox14\n",
      "——————————————————————————\n",
      "Player 1 has 0 borne-off pieces.\n",
      "Player 2 has 0 borne-off pieces.\n",
      "Player 1: o | Player 2: x\n",
      "——————————————————————————\n",
      " | | | | | | | | | | |o14x\n",
      "——————————————————————————\n",
      " | | | | | | | | | | |ox14\n",
      "——————————————————————————\n",
      "Player 1 has 0 borne-off pieces.\n",
      "Player 2 has 0 borne-off pieces.\n"
     ]
    }
   ],
   "source": [
    "plakoto_game.setup_turn(verbose=True)\n",
    "valid_moves = plakoto_game.get_valid_moves()\n",
    "while len(plakoto_game.get_moves()) > 0:\n",
    "    valid_moves = plakoto_game.get_valid_moves()\n",
    "    if len(valid_moves) == 0:\n",
    "        plakoto_game.visualize_board()\n",
    "        break\n",
    "    chosen_move = valid_moves[np.random.randint(len(valid_moves))]\n",
    "    plakoto_game.play_turn(chosen_move[0], chosen_move[1], verbose=False)\n",
    "plakoto_game.visualize_board()"
   ]
  },
  {
   "cell_type": "code",
   "execution_count": null,
   "metadata": {},
   "outputs": [],
   "source": []
  }
 ],
 "metadata": {
  "kernelspec": {
   "display_name": "base",
   "language": "python",
   "name": "python3"
  },
  "language_info": {
   "codemirror_mode": {
    "name": "ipython",
    "version": 3
   },
   "file_extension": ".py",
   "mimetype": "text/x-python",
   "name": "python",
   "nbconvert_exporter": "python",
   "pygments_lexer": "ipython3",
   "version": "3.9.13"
  }
 },
 "nbformat": 4,
 "nbformat_minor": 2
}
